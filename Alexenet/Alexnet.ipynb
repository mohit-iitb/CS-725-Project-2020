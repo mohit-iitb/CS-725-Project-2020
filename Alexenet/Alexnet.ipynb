{
 "cells": [
  {
   "cell_type": "code",
   "execution_count": 1,
   "metadata": {
    "colab": {
     "base_uri": "https://localhost:8080/"
    },
    "id": "Ff6Ao_3a6B59",
    "outputId": "d1c09efc-9603-4495-e704-222d5b3aa9bf"
   },
   "outputs": [
    {
     "name": "stdout",
     "output_type": "stream",
     "text": [
      "Mounted at /content/drive\n"
     ]
    }
   ],
   "source": [
    "from google.colab import drive\n",
    "drive.mount('/content/drive')"
   ]
  },
  {
   "cell_type": "code",
   "execution_count": null,
   "metadata": {
    "id": "ToYjko8M6O25"
   },
   "outputs": [],
   "source": [
    "import pandas as pd\n",
    "import numpy as np\n",
    "import matplotlib.pyplot as plt\n",
    "from keras.models import Sequential\n",
    "from keras.layers.core import Flatten, Dense, Dropout\n",
    "from keras.layers.convolutional import Convolution2D, MaxPooling2D, ZeroPadding2D\n",
    "from keras.optimizers import SGD, Adam\n",
    "import cv2"
   ]
  },
  {
   "cell_type": "code",
   "execution_count": null,
   "metadata": {
    "colab": {
     "base_uri": "https://localhost:8080/"
    },
    "id": "PRnXBQAO64JE",
    "outputId": "b6df10a1-70c7-4c49-f158-9b58ba0732a5"
   },
   "outputs": [
    {
     "name": "stdout",
     "output_type": "stream",
     "text": [
      "       emotion                                             pixels        Usage\n",
      "0            0  70 80 82 72 58 58 60 63 54 58 60 48 89 115 121...     Training\n",
      "1            0  151 150 147 155 148 133 111 140 170 174 182 15...     Training\n",
      "2            2  231 212 156 164 174 138 161 173 182 200 106 38...     Training\n",
      "3            4  24 32 36 30 32 23 19 20 30 41 21 22 32 34 21 1...     Training\n",
      "4            6  4 0 0 0 0 0 0 0 0 0 0 0 3 15 23 28 48 50 58 84...     Training\n",
      "...        ...                                                ...          ...\n",
      "35882        6  50 36 17 22 23 29 33 39 34 37 37 37 39 43 48 5...  PrivateTest\n",
      "35883        3  178 174 172 173 181 188 191 194 196 199 200 20...  PrivateTest\n",
      "35884        0  17 17 16 23 28 22 19 17 25 26 20 24 31 19 27 9...  PrivateTest\n",
      "35885        3  30 28 28 29 31 30 42 68 79 81 77 67 67 71 63 6...  PrivateTest\n",
      "35886        2  19 13 14 12 13 16 21 33 50 57 71 84 97 108 122...  PrivateTest\n",
      "\n",
      "[35887 rows x 3 columns]\n"
     ]
    }
   ],
   "source": [
    "emotion_data = pd.read_csv('/content/drive/My Drive/data/facerecog/fer2013.csv')\n",
    "print(emotion_data)"
   ]
  },
  {
   "cell_type": "code",
   "execution_count": 2,
   "metadata": {
    "colab": {
     "base_uri": "https://localhost:8080/"
    },
    "id": "vaqEApHvZADA",
    "outputId": "0114e627-b736-449f-fe13-d94c68445d69"
   },
   "outputs": [
    {
     "name": "stdout",
     "output_type": "stream",
     "text": [
      "Model: \"sequential\"\n",
      "_________________________________________________________________\n",
      "Layer (type)                 Output Shape              Param #   \n",
      "=================================================================\n",
      "conv2d (Conv2D)              (None, 12, 12, 96)        11712     \n",
      "_________________________________________________________________\n",
      "batch_normalization (BatchNo (None, 12, 12, 96)        384       \n",
      "_________________________________________________________________\n",
      "activation (Activation)      (None, 12, 12, 96)        0         \n",
      "_________________________________________________________________\n",
      "max_pooling2d (MaxPooling2D) (None, 6, 6, 96)          0         \n",
      "_________________________________________________________________\n",
      "conv2d_1 (Conv2D)            (None, 6, 6, 256)         614656    \n",
      "_________________________________________________________________\n",
      "batch_normalization_1 (Batch (None, 6, 6, 256)         1024      \n",
      "_________________________________________________________________\n",
      "activation_1 (Activation)    (None, 6, 6, 256)         0         \n",
      "_________________________________________________________________\n",
      "max_pooling2d_1 (MaxPooling2 (None, 3, 3, 256)         0         \n",
      "_________________________________________________________________\n",
      "conv2d_2 (Conv2D)            (None, 3, 3, 384)         885120    \n",
      "_________________________________________________________________\n",
      "batch_normalization_2 (Batch (None, 3, 3, 384)         1536      \n",
      "_________________________________________________________________\n",
      "activation_2 (Activation)    (None, 3, 3, 384)         0         \n",
      "_________________________________________________________________\n",
      "conv2d_3 (Conv2D)            (None, 3, 3, 384)         1327488   \n",
      "_________________________________________________________________\n",
      "batch_normalization_3 (Batch (None, 3, 3, 384)         1536      \n",
      "_________________________________________________________________\n",
      "activation_3 (Activation)    (None, 3, 3, 384)         0         \n",
      "_________________________________________________________________\n",
      "conv2d_4 (Conv2D)            (None, 3, 3, 256)         884992    \n",
      "_________________________________________________________________\n",
      "batch_normalization_4 (Batch (None, 3, 3, 256)         1024      \n",
      "_________________________________________________________________\n",
      "activation_4 (Activation)    (None, 3, 3, 256)         0         \n",
      "_________________________________________________________________\n",
      "max_pooling2d_2 (MaxPooling2 (None, 2, 2, 256)         0         \n",
      "_________________________________________________________________\n",
      "flatten (Flatten)            (None, 1024)              0         \n",
      "_________________________________________________________________\n",
      "dense (Dense)                (None, 4096)              4198400   \n",
      "_________________________________________________________________\n",
      "batch_normalization_5 (Batch (None, 4096)              16384     \n",
      "_________________________________________________________________\n",
      "activation_5 (Activation)    (None, 4096)              0         \n",
      "_________________________________________________________________\n",
      "dropout (Dropout)            (None, 4096)              0         \n",
      "_________________________________________________________________\n",
      "dense_1 (Dense)              (None, 4096)              16781312  \n",
      "_________________________________________________________________\n",
      "batch_normalization_6 (Batch (None, 4096)              16384     \n",
      "_________________________________________________________________\n",
      "activation_6 (Activation)    (None, 4096)              0         \n",
      "_________________________________________________________________\n",
      "dropout_1 (Dropout)          (None, 4096)              0         \n",
      "_________________________________________________________________\n",
      "dense_2 (Dense)              (None, 1000)              4097000   \n",
      "_________________________________________________________________\n",
      "batch_normalization_7 (Batch (None, 1000)              4000      \n",
      "_________________________________________________________________\n",
      "activation_7 (Activation)    (None, 1000)              0         \n",
      "_________________________________________________________________\n",
      "dropout_2 (Dropout)          (None, 1000)              0         \n",
      "_________________________________________________________________\n",
      "dense_3 (Dense)              (None, 7)                 7007      \n",
      "_________________________________________________________________\n",
      "batch_normalization_8 (Batch (None, 7)                 28        \n",
      "_________________________________________________________________\n",
      "activation_8 (Activation)    (None, 7)                 0         \n",
      "=================================================================\n",
      "Total params: 28,849,987\n",
      "Trainable params: 28,828,837\n",
      "Non-trainable params: 21,150\n",
      "_________________________________________________________________\n"
     ]
    }
   ],
   "source": [
    "#Importing library\n",
    "import keras\n",
    "from keras.models import Sequential\n",
    "from keras.layers import Dense, Activation, Dropout, Flatten, Conv2D, MaxPooling2D\n",
    "from keras.layers.normalization import BatchNormalization\n",
    "import numpy as np\n",
    "\n",
    "np.random.seed(1000)\n",
    "\n",
    "#Instantiation\n",
    "AlexNet = Sequential()\n",
    "\n",
    "#1st Convolutional Layer\n",
    "AlexNet.add(Conv2D(filters=96, input_shape=(48,48,1), kernel_size=(11,11), strides=(4,4), padding='same'))\n",
    "AlexNet.add(BatchNormalization())\n",
    "AlexNet.add(Activation('relu'))\n",
    "AlexNet.add(MaxPooling2D(pool_size=(2,2), strides=(2,2), padding='same'))\n",
    "\n",
    "#2nd Convolutional Layer\n",
    "AlexNet.add(Conv2D(filters=256, kernel_size=(5, 5), strides=(1,1), padding='same'))\n",
    "AlexNet.add(BatchNormalization())\n",
    "AlexNet.add(Activation('relu'))\n",
    "AlexNet.add(MaxPooling2D(pool_size=(2,2), strides=(2,2), padding='same'))\n",
    "\n",
    "#3rd Convolutional Layer\n",
    "AlexNet.add(Conv2D(filters=384, kernel_size=(3,3), strides=(1,1), padding='same'))\n",
    "AlexNet.add(BatchNormalization())\n",
    "AlexNet.add(Activation('relu'))\n",
    "\n",
    "#4th Convolutional Layer\n",
    "AlexNet.add(Conv2D(filters=384, kernel_size=(3,3), strides=(1,1), padding='same'))\n",
    "AlexNet.add(BatchNormalization())\n",
    "AlexNet.add(Activation('relu'))\n",
    "\n",
    "#5th Convolutional Layer\n",
    "AlexNet.add(Conv2D(filters=256, kernel_size=(3,3), strides=(1,1), padding='same'))\n",
    "AlexNet.add(BatchNormalization())\n",
    "AlexNet.add(Activation('relu'))\n",
    "AlexNet.add(MaxPooling2D(pool_size=(2,2), strides=(2,2), padding='same'))\n",
    "\n",
    "#Passing it to a Fully Connected layer\n",
    "AlexNet.add(Flatten())\n",
    "# 1st Fully Connected Layer\n",
    "AlexNet.add(Dense(4096, input_shape=(32,32,3,)))\n",
    "AlexNet.add(BatchNormalization())\n",
    "AlexNet.add(Activation('relu'))\n",
    "# Add Dropout to prevent overfitting\n",
    "AlexNet.add(Dropout(0.4))\n",
    "\n",
    "#2nd Fully Connected Layer\n",
    "AlexNet.add(Dense(4096))\n",
    "AlexNet.add(BatchNormalization())\n",
    "AlexNet.add(Activation('relu'))\n",
    "#Add Dropout\n",
    "AlexNet.add(Dropout(0.4))\n",
    "\n",
    "#3rd Fully Connected Layer\n",
    "AlexNet.add(Dense(1000))\n",
    "AlexNet.add(BatchNormalization())\n",
    "AlexNet.add(Activation('relu'))\n",
    "#Add Dropout\n",
    "AlexNet.add(Dropout(0.4))\n",
    "\n",
    "#Output Layer\n",
    "AlexNet.add(Dense(7))\n",
    "AlexNet.add(BatchNormalization())\n",
    "AlexNet.add(Activation('softmax'))\n",
    "\n",
    "#Model Summary\n",
    "AlexNet.summary()"
   ]
  },
  {
   "cell_type": "code",
   "execution_count": 68,
   "metadata": {
    "id": "nptDaek20KLw"
   },
   "outputs": [],
   "source": []
  },
  {
   "cell_type": "code",
   "execution_count": 36,
   "metadata": {
    "id": "4-7g4JXU0Pkw"
   },
   "outputs": [],
   "source": [
    "import numpy as np # linear algebra\n",
    "import pandas as pd\n",
    "data = pd.read_csv('/content/drive/My Drive/data/facerecog/fer2013.csv')"
   ]
  },
  {
   "cell_type": "code",
   "execution_count": 37,
   "metadata": {
    "id": "p5eXneEf03h9"
   },
   "outputs": [],
   "source": [
    "train_data = data[data.Usage=='Training']\n",
    "val_data = data[data.Usage=='PublicTest']\n",
    "test_data = data[data.Usage=='PrivateTest']\n",
    "x_train = train_data.pixels.values.reshape(-1,1)\n",
    "y_train = train_data.emotion.values\n",
    "\n",
    "x_val = val_data.pixels.values.reshape(-1,1)\n",
    "y_val = val_data.emotion.values\n",
    "\n",
    "x_test = test_data.pixels.values.reshape(-1,1)\n",
    "y_test = test_data.emotion.values"
   ]
  },
  {
   "cell_type": "code",
   "execution_count": 38,
   "metadata": {
    "colab": {
     "base_uri": "https://localhost:8080/"
    },
    "id": "VvGceNyF0_T1",
    "outputId": "736c4cc0-dcb4-4789-9960-0abdcecfbab2"
   },
   "outputs": [
    {
     "data": {
      "text/plain": [
       "((28709, 48, 48, 1), (3589, 48, 48, 1), (3589, 48, 48, 1))"
      ]
     },
     "execution_count": 38,
     "metadata": {
      "tags": []
     },
     "output_type": "execute_result"
    }
   ],
   "source": [
    "x_train = list(x_train)\n",
    "x_val   = list(x_val)\n",
    "x_test  = list(x_test)\n",
    "\n",
    "for i,item in enumerate(x_train):\n",
    "    x_train[i] = np.fromstring(item[0],sep=' ').reshape(48,48,1)\n",
    "for i,item in enumerate(x_val):\n",
    "    x_val[i] = np.fromstring(item[0],sep=' ').reshape(48,48,1)\n",
    "for i,item in enumerate(x_test):\n",
    "    x_test[i] = np.fromstring(item[0],sep=' ').reshape(48,48,1)\n",
    "    \n",
    "x_train = np.vstack(x_train).reshape(-1,48,48,1)\n",
    "x_val = np.vstack(x_val).reshape(-1,48,48,1)\n",
    "x_test = np.vstack(x_test).reshape(-1,48,48,1)\n",
    "x_train.shape , x_val.shape, x_test.shape"
   ]
  },
  {
   "cell_type": "code",
   "execution_count": 39,
   "metadata": {
    "id": "NAVm3O411DXq"
   },
   "outputs": [],
   "source": [
    "from sklearn.utils.multiclass import unique_labels\n",
    "from keras.utils import to_categorical"
   ]
  },
  {
   "cell_type": "code",
   "execution_count": 40,
   "metadata": {
    "id": "A9JUFz7C1IZN"
   },
   "outputs": [],
   "source": [
    "y_train=to_categorical(y_train)\n",
    "y_val=to_categorical(y_val)\n",
    "y_test=to_categorical(y_test)"
   ]
  },
  {
   "cell_type": "code",
   "execution_count": 41,
   "metadata": {
    "colab": {
     "base_uri": "https://localhost:8080/"
    },
    "id": "Lnkdah7l1OCR",
    "outputId": "855980c3-cf40-4cf7-b6f9-13dd3def67aa"
   },
   "outputs": [
    {
     "data": {
      "text/plain": [
       "((28709, 7),\n",
       " (3589, 7),\n",
       " (3589, 7),\n",
       " (28709, 48, 48, 1),\n",
       " (3589, 48, 48, 1),\n",
       " (3589, 48, 48, 1))"
      ]
     },
     "execution_count": 41,
     "metadata": {
      "tags": []
     },
     "output_type": "execute_result"
    }
   ],
   "source": [
    "y_train.shape , y_val.shape, y_test.shape , x_train.shape, x_val.shape, x_test.shape"
   ]
  },
  {
   "cell_type": "code",
   "execution_count": 61,
   "metadata": {
    "id": "DkC7MCv91UKN"
   },
   "outputs": [],
   "source": [
    "from keras.preprocessing.image import ImageDataGenerator\n",
    "\n",
    "train_generator = ImageDataGenerator(rotation_range=2, horizontal_flip=True,zoom_range=.1 )\n",
    "\n",
    "val_generator = ImageDataGenerator(rotation_range=2, horizontal_flip=True,zoom_range=.1)\n",
    "\n",
    "test_generator = ImageDataGenerator(rotation_range=2, horizontal_flip= True,zoom_range=.1)\n",
    "\n",
    "#Fitting the augmentation defined above to the data\n",
    "train_generator.fit(x_train)\n",
    "val_generator.fit(x_val)\n",
    "test_generator.fit(x_test)"
   ]
  },
  {
   "cell_type": "code",
   "execution_count": 62,
   "metadata": {
    "id": "p9X8ycbEvytq"
   },
   "outputs": [],
   "source": [
    "AlexNet.compile(loss = keras.losses.categorical_crossentropy, optimizer= 'adam', metrics=['accuracy'])\n"
   ]
  },
  {
   "cell_type": "code",
   "execution_count": 63,
   "metadata": {
    "id": "xn4fZcsc1Zn6"
   },
   "outputs": [],
   "source": [
    "#Learning Rate Annealer\n",
    "from keras.callbacks import ReduceLROnPlateau\n",
    "lrr= ReduceLROnPlateau(monitor='val_loss',   factor=.01, patience=3,  min_lr=1e-5,verbose=1) "
   ]
  },
  {
   "cell_type": "code",
   "execution_count": 64,
   "metadata": {
    "id": "KomvE3wN1dk6"
   },
   "outputs": [],
   "source": [
    "batch_size= 100\n",
    "epochs=40\n",
    "learn_rate=.001"
   ]
  },
  {
   "cell_type": "code",
   "execution_count": 65,
   "metadata": {
    "id": "NSlxkYg9o9sW"
   },
   "outputs": [],
   "source": [
    "from keras.callbacks import Callback\n",
    "from keras.callbacks import ModelCheckpoint, EarlyStopping\n",
    "checkpoint = ModelCheckpoint('Emotion_little_Alexnet_emotions.h5',\n",
    "                             monitor='val_loss',\n",
    "                             mode='min',\n",
    "                             save_best_only=True,\n",
    "                             verbose=1)\n",
    "\n",
    "earlystop = EarlyStopping(monitor='loss',\n",
    "                          min_delta=0,\n",
    "                          patience=3,\n",
    "                          verbose=1,\n",
    "                          restore_best_weights=True\n",
    "                          )\n",
    "class TestCallback(Callback):\n",
    "    def __init__(self, test_data):\n",
    "        self.test_data = test_data\n",
    "\n",
    "    def on_epoch_end(self, epoch, logs={}):\n",
    "        x, y = self.test_data\n",
    "        print(x.shape, y.shape)\n",
    "        loss, acc = self.model.evaluate(x, y, verbose=0)\n",
    "        print('\\nTesting loss: {}, acc: {}\\n'.format(loss, acc))\n",
    "val_ev = TestCallback((x_val,y_val))"
   ]
  },
  {
   "cell_type": "code",
   "execution_count": 66,
   "metadata": {
    "colab": {
     "base_uri": "https://localhost:8080/"
    },
    "id": "KGJ7Tnr81f5O",
    "outputId": "af782081-1ba4-4ebe-f234-941db36aa14d"
   },
   "outputs": [
    {
     "name": "stdout",
     "output_type": "stream",
     "text": [
      "Epoch 1/40\n",
      "287/287 [==============================] - ETA: 0s - loss: 1.6266 - accuracy: 0.3501\n",
      "Epoch 00001: val_loss improved from inf to 1.80607, saving model to Emotion_little_Alexnet_emotions.h5\n",
      "(3589, 48, 48, 1) (3589, 7)\n",
      "\n",
      "Testing loss: 1.8060693740844727, acc: 0.2630259096622467\n",
      "\n",
      "287/287 [==============================] - 549s 2s/step - loss: 1.6266 - accuracy: 0.3501 - val_loss: 1.8061 - val_accuracy: 0.2630\n",
      "Epoch 2/40\n",
      "287/287 [==============================] - ETA: 0s - loss: 1.5061 - accuracy: 0.4123\n",
      "Epoch 00002: val_loss improved from 1.80607 to 1.59028, saving model to Emotion_little_Alexnet_emotions.h5\n",
      "(3589, 48, 48, 1) (3589, 7)\n",
      "\n",
      "Testing loss: 1.5902811288833618, acc: 0.3624965250492096\n",
      "\n",
      "287/287 [==============================] - 560s 2s/step - loss: 1.5061 - accuracy: 0.4123 - val_loss: 1.5903 - val_accuracy: 0.3625\n",
      "Epoch 3/40\n",
      "287/287 [==============================] - ETA: 0s - loss: 1.4463 - accuracy: 0.4372\n",
      "Epoch 00003: val_loss improved from 1.59028 to 1.49334, saving model to Emotion_little_Alexnet_emotions.h5\n",
      "(3589, 48, 48, 1) (3589, 7)\n",
      "\n",
      "Testing loss: 1.4933394193649292, acc: 0.4329896867275238\n",
      "\n",
      "287/287 [==============================] - 566s 2s/step - loss: 1.4463 - accuracy: 0.4372 - val_loss: 1.4933 - val_accuracy: 0.4330\n",
      "Epoch 4/40\n",
      "287/287 [==============================] - ETA: 0s - loss: 1.4077 - accuracy: 0.4521\n",
      "Epoch 00004: val_loss improved from 1.49334 to 1.47952, saving model to Emotion_little_Alexnet_emotions.h5\n",
      "(3589, 48, 48, 1) (3589, 7)\n",
      "\n",
      "Testing loss: 1.4795202016830444, acc: 0.41655057668685913\n",
      "\n",
      "287/287 [==============================] - 559s 2s/step - loss: 1.4077 - accuracy: 0.4521 - val_loss: 1.4795 - val_accuracy: 0.4166\n",
      "Epoch 5/40\n",
      "287/287 [==============================] - ETA: 0s - loss: 1.3659 - accuracy: 0.4769\n",
      "Epoch 00005: val_loss improved from 1.47952 to 1.38926, saving model to Emotion_little_Alexnet_emotions.h5\n",
      "(3589, 48, 48, 1) (3589, 7)\n",
      "\n",
      "Testing loss: 1.3892583847045898, acc: 0.46781831979751587\n",
      "\n",
      "287/287 [==============================] - 577s 2s/step - loss: 1.3659 - accuracy: 0.4769 - val_loss: 1.3893 - val_accuracy: 0.4678\n",
      "Epoch 6/40\n",
      "287/287 [==============================] - ETA: 0s - loss: 1.3335 - accuracy: 0.4911\n",
      "Epoch 00006: val_loss improved from 1.38926 to 1.34893, saving model to Emotion_little_Alexnet_emotions.h5\n",
      "(3589, 48, 48, 1) (3589, 7)\n",
      "\n",
      "Testing loss: 1.348934531211853, acc: 0.4828643202781677\n",
      "\n",
      "287/287 [==============================] - 574s 2s/step - loss: 1.3335 - accuracy: 0.4911 - val_loss: 1.3489 - val_accuracy: 0.4829\n",
      "Epoch 7/40\n",
      "287/287 [==============================] - ETA: 0s - loss: 1.3005 - accuracy: 0.5060\n",
      "Epoch 00007: val_loss did not improve from 1.34893\n",
      "(3589, 48, 48, 1) (3589, 7)\n",
      "\n",
      "Testing loss: 1.3664379119873047, acc: 0.47144052386283875\n",
      "\n",
      "287/287 [==============================] - 558s 2s/step - loss: 1.3005 - accuracy: 0.5060 - val_loss: 1.3664 - val_accuracy: 0.4714\n",
      "Epoch 8/40\n",
      "287/287 [==============================] - ETA: 0s - loss: 1.2700 - accuracy: 0.5166\n",
      "Epoch 00008: val_loss did not improve from 1.34893\n",
      "(3589, 48, 48, 1) (3589, 7)\n",
      "\n",
      "Testing loss: 1.4428162574768066, acc: 0.4430203437805176\n",
      "\n",
      "287/287 [==============================] - 552s 2s/step - loss: 1.2700 - accuracy: 0.5166 - val_loss: 1.4428 - val_accuracy: 0.4430\n",
      "Epoch 9/40\n",
      "287/287 [==============================] - ETA: 0s - loss: 1.2417 - accuracy: 0.5296\n",
      "Epoch 00009: val_loss improved from 1.34893 to 1.33608, saving model to Emotion_little_Alexnet_emotions.h5\n",
      "(3589, 48, 48, 1) (3589, 7)\n",
      "\n",
      "Testing loss: 1.3360812664031982, acc: 0.4878796339035034\n",
      "\n",
      "287/287 [==============================] - 556s 2s/step - loss: 1.2417 - accuracy: 0.5296 - val_loss: 1.3361 - val_accuracy: 0.4879\n",
      "Epoch 10/40\n",
      "287/287 [==============================] - ETA: 0s - loss: 1.2123 - accuracy: 0.5445\n",
      "Epoch 00010: val_loss did not improve from 1.33608\n",
      "(3589, 48, 48, 1) (3589, 7)\n",
      "\n",
      "Testing loss: 1.4998705387115479, acc: 0.46029534935951233\n",
      "\n",
      "287/287 [==============================] - 556s 2s/step - loss: 1.2123 - accuracy: 0.5445 - val_loss: 1.4999 - val_accuracy: 0.4603\n",
      "Epoch 11/40\n",
      "287/287 [==============================] - ETA: 0s - loss: 1.1843 - accuracy: 0.5550\n",
      "Epoch 00011: val_loss improved from 1.33608 to 1.30382, saving model to Emotion_little_Alexnet_emotions.h5\n",
      "(3589, 48, 48, 1) (3589, 7)\n",
      "\n",
      "Testing loss: 1.3038196563720703, acc: 0.5073836445808411\n",
      "\n",
      "287/287 [==============================] - 548s 2s/step - loss: 1.1843 - accuracy: 0.5550 - val_loss: 1.3038 - val_accuracy: 0.5074\n",
      "Epoch 12/40\n",
      "287/287 [==============================] - ETA: 0s - loss: 1.1573 - accuracy: 0.5674\n",
      "Epoch 00012: val_loss did not improve from 1.30382\n",
      "(3589, 48, 48, 1) (3589, 7)\n",
      "\n",
      "Testing loss: 1.4459576606750488, acc: 0.4589022099971771\n",
      "\n",
      "287/287 [==============================] - 577s 2s/step - loss: 1.1573 - accuracy: 0.5674 - val_loss: 1.4460 - val_accuracy: 0.4589\n",
      "Epoch 13/40\n",
      "287/287 [==============================] - ETA: 0s - loss: 1.1298 - accuracy: 0.5786\n",
      "Epoch 00013: val_loss did not improve from 1.30382\n",
      "(3589, 48, 48, 1) (3589, 7)\n",
      "\n",
      "Testing loss: 1.4314875602722168, acc: 0.4435775876045227\n",
      "\n",
      "287/287 [==============================] - 569s 2s/step - loss: 1.1298 - accuracy: 0.5786 - val_loss: 1.4315 - val_accuracy: 0.4436\n",
      "Epoch 14/40\n",
      "287/287 [==============================] - ETA: 0s - loss: 1.1038 - accuracy: 0.5897\n",
      "Epoch 00014: ReduceLROnPlateau reducing learning rate to 1.0000000474974514e-05.\n",
      "\n",
      "Epoch 00014: val_loss did not improve from 1.30382\n",
      "(3589, 48, 48, 1) (3589, 7)\n",
      "\n",
      "Testing loss: 1.3689056634902954, acc: 0.4845360815525055\n",
      "\n",
      "287/287 [==============================] - 569s 2s/step - loss: 1.1038 - accuracy: 0.5897 - val_loss: 1.3689 - val_accuracy: 0.4845\n",
      "Epoch 15/40\n",
      "287/287 [==============================] - ETA: 0s - loss: 1.0547 - accuracy: 0.6141\n",
      "Epoch 00015: val_loss improved from 1.30382 to 1.23576, saving model to Emotion_little_Alexnet_emotions.h5\n",
      "(3589, 48, 48, 1) (3589, 7)\n",
      "\n",
      "Testing loss: 1.2357622385025024, acc: 0.5288380980491638\n",
      "\n",
      "287/287 [==============================] - 580s 2s/step - loss: 1.0547 - accuracy: 0.6141 - val_loss: 1.2358 - val_accuracy: 0.5288\n",
      "Epoch 16/40\n",
      "287/287 [==============================] - ETA: 0s - loss: 1.0273 - accuracy: 0.6229\n",
      "Epoch 00016: val_loss improved from 1.23576 to 1.22862, saving model to Emotion_little_Alexnet_emotions.h5\n",
      "(3589, 48, 48, 1) (3589, 7)\n",
      "\n",
      "Testing loss: 1.2286159992218018, acc: 0.5363610982894897\n",
      "\n",
      "287/287 [==============================] - 553s 2s/step - loss: 1.0273 - accuracy: 0.6229 - val_loss: 1.2286 - val_accuracy: 0.5364\n",
      "Epoch 17/40\n",
      "287/287 [==============================] - ETA: 0s - loss: 1.0209 - accuracy: 0.6303\n",
      "Epoch 00017: val_loss improved from 1.22862 to 1.22481, saving model to Emotion_little_Alexnet_emotions.h5\n",
      "(3589, 48, 48, 1) (3589, 7)\n",
      "\n",
      "Testing loss: 1.2248116731643677, acc: 0.5338534116744995\n",
      "\n",
      "287/287 [==============================] - 560s 2s/step - loss: 1.0209 - accuracy: 0.6303 - val_loss: 1.2248 - val_accuracy: 0.5339\n",
      "Epoch 18/40\n",
      "287/287 [==============================] - ETA: 0s - loss: 1.0052 - accuracy: 0.6336\n",
      "Epoch 00018: val_loss improved from 1.22481 to 1.22405, saving model to Emotion_little_Alexnet_emotions.h5\n",
      "(3589, 48, 48, 1) (3589, 7)\n",
      "\n",
      "Testing loss: 1.224050760269165, acc: 0.537754237651825\n",
      "\n",
      "287/287 [==============================] - 559s 2s/step - loss: 1.0052 - accuracy: 0.6336 - val_loss: 1.2241 - val_accuracy: 0.5378\n",
      "Epoch 19/40\n",
      "287/287 [==============================] - ETA: 0s - loss: 1.0019 - accuracy: 0.6362\n",
      "Epoch 00019: val_loss did not improve from 1.22405\n",
      "(3589, 48, 48, 1) (3589, 7)\n",
      "\n",
      "Testing loss: 1.22432541847229, acc: 0.5383114814758301\n",
      "\n",
      "287/287 [==============================] - 552s 2s/step - loss: 1.0019 - accuracy: 0.6362 - val_loss: 1.2243 - val_accuracy: 0.5383\n",
      "Epoch 20/40\n",
      "287/287 [==============================] - ETA: 0s - loss: 1.0018 - accuracy: 0.6357\n",
      "Epoch 00020: val_loss did not improve from 1.22405\n",
      "(3589, 48, 48, 1) (3589, 7)\n",
      "\n",
      "Testing loss: 1.2254148721694946, acc: 0.5383114814758301\n",
      "\n",
      "287/287 [==============================] - 562s 2s/step - loss: 1.0018 - accuracy: 0.6357 - val_loss: 1.2254 - val_accuracy: 0.5383\n",
      "Epoch 21/40\n",
      "287/287 [==============================] - ETA: 0s - loss: 0.9934 - accuracy: 0.6401\n",
      "Epoch 00021: ReduceLROnPlateau reducing learning rate to 1e-05.\n",
      "\n",
      "Epoch 00021: val_loss did not improve from 1.22405\n",
      "(3589, 48, 48, 1) (3589, 7)\n",
      "\n",
      "Testing loss: 1.2243294715881348, acc: 0.5366397500038147\n",
      "\n",
      "287/287 [==============================] - 554s 2s/step - loss: 0.9934 - accuracy: 0.6401 - val_loss: 1.2243 - val_accuracy: 0.5366\n",
      "Epoch 22/40\n",
      "287/287 [==============================] - ETA: 0s - loss: 0.9865 - accuracy: 0.6374\n",
      "Epoch 00022: val_loss improved from 1.22405 to 1.22338, saving model to Emotion_little_Alexnet_emotions.h5\n",
      "(3589, 48, 48, 1) (3589, 7)\n",
      "\n",
      "Testing loss: 1.2233800888061523, acc: 0.5366397500038147\n",
      "\n",
      "287/287 [==============================] - 554s 2s/step - loss: 0.9865 - accuracy: 0.6374 - val_loss: 1.2234 - val_accuracy: 0.5366\n",
      "Epoch 23/40\n",
      "287/287 [==============================] - ETA: 0s - loss: 0.9872 - accuracy: 0.6406\n",
      "Epoch 00023: val_loss did not improve from 1.22338\n",
      "(3589, 48, 48, 1) (3589, 7)\n",
      "\n",
      "Testing loss: 1.2261598110198975, acc: 0.537754237651825\n",
      "\n",
      "287/287 [==============================] - 556s 2s/step - loss: 0.9872 - accuracy: 0.6406 - val_loss: 1.2262 - val_accuracy: 0.5378\n",
      "Epoch 24/40\n",
      "287/287 [==============================] - ETA: 0s - loss: 0.9825 - accuracy: 0.6437\n",
      "Epoch 00024: val_loss did not improve from 1.22338\n",
      "(3589, 48, 48, 1) (3589, 7)\n",
      "\n",
      "Testing loss: 1.2258013486862183, acc: 0.5358038544654846\n",
      "\n",
      "287/287 [==============================] - 550s 2s/step - loss: 0.9825 - accuracy: 0.6437 - val_loss: 1.2258 - val_accuracy: 0.5358\n",
      "Epoch 25/40\n",
      "287/287 [==============================] - ETA: 0s - loss: 0.9802 - accuracy: 0.6458\n",
      "Epoch 00025: val_loss did not improve from 1.22338\n",
      "(3589, 48, 48, 1) (3589, 7)\n",
      "\n",
      "Testing loss: 1.2243059873580933, acc: 0.5371969938278198\n",
      "\n",
      "287/287 [==============================] - 558s 2s/step - loss: 0.9802 - accuracy: 0.6458 - val_loss: 1.2243 - val_accuracy: 0.5372\n",
      "Epoch 26/40\n",
      "287/287 [==============================] - ETA: 0s - loss: 0.9821 - accuracy: 0.6422\n",
      "Epoch 00026: val_loss did not improve from 1.22338\n",
      "(3589, 48, 48, 1) (3589, 7)\n",
      "\n",
      "Testing loss: 1.2267438173294067, acc: 0.5369183421134949\n",
      "\n",
      "287/287 [==============================] - 559s 2s/step - loss: 0.9821 - accuracy: 0.6422 - val_loss: 1.2267 - val_accuracy: 0.5369\n",
      "Epoch 27/40\n",
      "287/287 [==============================] - ETA: 0s - loss: 0.9778 - accuracy: 0.6433\n",
      "Epoch 00027: val_loss did not improve from 1.22338\n",
      "(3589, 48, 48, 1) (3589, 7)\n",
      "\n",
      "Testing loss: 1.2275303602218628, acc: 0.5374756455421448\n",
      "\n",
      "287/287 [==============================] - 546s 2s/step - loss: 0.9778 - accuracy: 0.6433 - val_loss: 1.2275 - val_accuracy: 0.5375\n",
      "Epoch 28/40\n",
      "287/287 [==============================] - ETA: 0s - loss: 0.9757 - accuracy: 0.6450\n",
      "Epoch 00028: val_loss did not improve from 1.22338\n",
      "(3589, 48, 48, 1) (3589, 7)\n",
      "\n",
      "Testing loss: 1.226584553718567, acc: 0.5391473770141602\n",
      "\n",
      "287/287 [==============================] - 559s 2s/step - loss: 0.9757 - accuracy: 0.6450 - val_loss: 1.2266 - val_accuracy: 0.5391\n",
      "Epoch 29/40\n",
      "287/287 [==============================] - ETA: 0s - loss: 0.9743 - accuracy: 0.6478\n",
      "Epoch 00029: val_loss did not improve from 1.22338\n",
      "(3589, 48, 48, 1) (3589, 7)\n",
      "\n",
      "Testing loss: 1.2285677194595337, acc: 0.5397046804428101\n",
      "\n",
      "287/287 [==============================] - 552s 2s/step - loss: 0.9743 - accuracy: 0.6478 - val_loss: 1.2286 - val_accuracy: 0.5397\n",
      "Epoch 30/40\n",
      "287/287 [==============================] - ETA: 0s - loss: 0.9702 - accuracy: 0.6471\n",
      "Epoch 00030: val_loss did not improve from 1.22338\n",
      "(3589, 48, 48, 1) (3589, 7)\n",
      "\n",
      "Testing loss: 1.2278319597244263, acc: 0.5419337153434753\n",
      "\n",
      "287/287 [==============================] - 555s 2s/step - loss: 0.9702 - accuracy: 0.6471 - val_loss: 1.2278 - val_accuracy: 0.5419\n",
      "Epoch 31/40\n",
      "287/287 [==============================] - ETA: 0s - loss: 0.9675 - accuracy: 0.6478\n",
      "Epoch 00031: val_loss did not improve from 1.22338\n",
      "(3589, 48, 48, 1) (3589, 7)\n",
      "\n",
      "Testing loss: 1.2268465757369995, acc: 0.5397046804428101\n",
      "\n",
      "287/287 [==============================] - 557s 2s/step - loss: 0.9675 - accuracy: 0.6478 - val_loss: 1.2268 - val_accuracy: 0.5397\n",
      "Epoch 32/40\n",
      "287/287 [==============================] - ETA: 0s - loss: 0.9686 - accuracy: 0.6511\n",
      "Epoch 00032: val_loss did not improve from 1.22338\n",
      "(3589, 48, 48, 1) (3589, 7)\n",
      "\n",
      "Testing loss: 1.2326757907867432, acc: 0.5408191680908203\n",
      "\n",
      "287/287 [==============================] - 561s 2s/step - loss: 0.9686 - accuracy: 0.6511 - val_loss: 1.2327 - val_accuracy: 0.5408\n",
      "Epoch 33/40\n",
      "287/287 [==============================] - ETA: 0s - loss: 0.9657 - accuracy: 0.6478\n",
      "Epoch 00033: val_loss did not improve from 1.22338\n",
      "(3589, 48, 48, 1) (3589, 7)\n",
      "\n",
      "Testing loss: 1.2327115535736084, acc: 0.5391473770141602\n",
      "\n",
      "287/287 [==============================] - 557s 2s/step - loss: 0.9657 - accuracy: 0.6478 - val_loss: 1.2327 - val_accuracy: 0.5391\n",
      "Epoch 34/40\n",
      "287/287 [==============================] - ETA: 0s - loss: 0.9640 - accuracy: 0.6504\n",
      "Epoch 00034: val_loss did not improve from 1.22338\n",
      "(3589, 48, 48, 1) (3589, 7)\n",
      "\n",
      "Testing loss: 1.2295758724212646, acc: 0.5410978198051453\n",
      "\n",
      "287/287 [==============================] - 560s 2s/step - loss: 0.9640 - accuracy: 0.6504 - val_loss: 1.2296 - val_accuracy: 0.5411\n",
      "Epoch 35/40\n",
      "287/287 [==============================] - ETA: 0s - loss: 0.9651 - accuracy: 0.6530\n",
      "Epoch 00035: val_loss did not improve from 1.22338\n",
      "(3589, 48, 48, 1) (3589, 7)\n",
      "\n",
      "Testing loss: 1.2345460653305054, acc: 0.5394260287284851\n",
      "\n",
      "287/287 [==============================] - 558s 2s/step - loss: 0.9651 - accuracy: 0.6530 - val_loss: 1.2345 - val_accuracy: 0.5394\n",
      "Epoch 36/40\n",
      "287/287 [==============================] - ETA: 0s - loss: 0.9669 - accuracy: 0.6499\n",
      "Epoch 00036: val_loss did not improve from 1.22338\n",
      "(3589, 48, 48, 1) (3589, 7)\n",
      "\n",
      "Testing loss: 1.2314276695251465, acc: 0.5427695512771606\n",
      "\n",
      "287/287 [==============================] - 552s 2s/step - loss: 0.9669 - accuracy: 0.6499 - val_loss: 1.2314 - val_accuracy: 0.5428\n",
      "Epoch 37/40\n",
      "287/287 [==============================] - ETA: 0s - loss: 0.9629 - accuracy: 0.6486\n",
      "Epoch 00037: val_loss did not improve from 1.22338\n",
      "(3589, 48, 48, 1) (3589, 7)\n",
      "\n",
      "Testing loss: 1.2323909997940063, acc: 0.5424909591674805\n",
      "\n",
      "287/287 [==============================] - 572s 2s/step - loss: 0.9629 - accuracy: 0.6486 - val_loss: 1.2324 - val_accuracy: 0.5425\n",
      "Epoch 38/40\n",
      "287/287 [==============================] - ETA: 0s - loss: 0.9594 - accuracy: 0.6524\n",
      "Epoch 00038: val_loss did not improve from 1.22338\n",
      "(3589, 48, 48, 1) (3589, 7)\n",
      "\n",
      "Testing loss: 1.2317943572998047, acc: 0.5416550636291504\n",
      "\n",
      "287/287 [==============================] - 570s 2s/step - loss: 0.9594 - accuracy: 0.6524 - val_loss: 1.2318 - val_accuracy: 0.5417\n",
      "Epoch 39/40\n",
      "287/287 [==============================] - ETA: 0s - loss: 0.9617 - accuracy: 0.6529\n",
      "Epoch 00039: val_loss did not improve from 1.22338\n",
      "(3589, 48, 48, 1) (3589, 7)\n",
      "\n",
      "Testing loss: 1.232765555381775, acc: 0.5399832725524902\n",
      "\n",
      "287/287 [==============================] - 563s 2s/step - loss: 0.9617 - accuracy: 0.6529 - val_loss: 1.2328 - val_accuracy: 0.5400\n",
      "Epoch 40/40\n",
      "287/287 [==============================] - ETA: 0s - loss: 0.9524 - accuracy: 0.6542\n",
      "Epoch 00040: val_loss did not improve from 1.22338\n",
      "(3589, 48, 48, 1) (3589, 7)\n",
      "\n",
      "Testing loss: 1.2334519624710083, acc: 0.5433268547058105\n",
      "\n",
      "287/287 [==============================] - 561s 2s/step - loss: 0.9524 - accuracy: 0.6542 - val_loss: 1.2335 - val_accuracy: 0.5433\n",
      "Saved model to disk\n"
     ]
    }
   ],
   "source": [
    "AlexNet.fit_generator(train_generator.flow(x_train, y_train, batch_size=batch_size), epochs = epochs, steps_per_epoch = x_train.shape[0]//batch_size, validation_data = (x_val, y_val),callbacks=[lrr,checkpoint,earlystop,val_ev] ,verbose=1)\n",
    "from keras.models import model_from_yaml\n",
    "model_yaml = AlexNet.to_yaml()\n",
    "with open(\"model.yaml\", \"w\") as yaml_file:\n",
    "    yaml_file.write(model_yaml)\n",
    "# serialize weights to HDF5\n",
    "AlexNet.save_weights(\"model.h5\")\n",
    "print(\"Saved model to disk\")"
   ]
  },
  {
   "cell_type": "code",
   "execution_count": null,
   "metadata": {
    "id": "ZhkFWeAVyDLI"
   },
   "outputs": [],
   "source": [
    "AlexNet.history.history"
   ]
  },
  {
   "cell_type": "code",
   "execution_count": 103,
   "metadata": {
    "id": "D1ZinYEzVRXG"
   },
   "outputs": [],
   "source": [
    "import matplotlib.pyplot as plt\n",
    "#Plotting the training and validation loss\n",
    "\n",
    "f,ax=plt.subplots(2,1) #Creates 2 subplots under 1 column\n",
    "\n",
    "#Assigning the first subplot to graph training loss and validation loss\n",
    "ax[0].plot(AlexNet.history.history['loss'],color='b',label='Training Loss')\n",
    "ax[0].plot(AlexNet.history.history['val_loss'],color='r',label='Validation Loss')\n",
    "\n",
    "#Plotting the training accuracy and validation accuracy\n",
    "ax[1].plot(AlexNet.history.history['accuracy'],color='b',label='Training  Accuracy')\n",
    "ax[1].plot(AlexNet.history.history['val_accuracy'],color='r',label='Validation Accuracy')\n",
    "\n",
    "plt.legend()\n",
    "plt.savefig('acculoss.png')"
   ]
  },
  {
   "cell_type": "code",
   "execution_count": 70,
   "metadata": {
    "id": "K3V14yCdBeh2"
   },
   "outputs": [],
   "source": [
    "def plot_confusion_matrix(y_true, y_pred, classes,\n",
    "                          normalize=False,\n",
    "                          title=None,\n",
    "                          cmap=plt.cm.Blues):\n",
    "    if not title:\n",
    "        if normalize:\n",
    "            title = 'Normalized confusion matrix'\n",
    "        else:\n",
    "            title = 'Confusion matrix, without normalization'\n",
    "\n",
    "    # Compute confusion matrix\n",
    "    cm = confusion_matrix(y_true, y_pred)\n",
    "    if normalize:\n",
    "        cm = cm.astype('float') / cm.sum(axis=1)[:, np.newaxis]\n",
    "        print(\"Normalized confusion matrix\")\n",
    "    else:\n",
    "        print('Confusion matrix, without normalization')\n",
    "\n",
    "#Print Confusion matrix\n",
    "    fig, ax = plt.subplots(figsize=(7,7))\n",
    "    im = ax.imshow(cm, interpolation='nearest', cmap=cmap)\n",
    "    ax.figure.colorbar(im, ax=ax)\n",
    "    # We want to show all ticks...\n",
    "    ax.set(xticks=np.arange(cm.shape[1]),\n",
    "           yticks=np.arange(cm.shape[0]),\n",
    "           xticklabels=classes, yticklabels=classes,\n",
    "           title=title,\n",
    "           ylabel='True label',\n",
    "           xlabel='Predicted label')\n",
    "\n",
    "    # Rotate the tick labels and set their alignment.\n",
    "    plt.setp(ax.get_xticklabels(), rotation=45, ha=\"right\",\n",
    "             rotation_mode=\"anchor\")\n",
    "    # Loop over data dimensions and create text annotations.\n",
    "    fmt = '.2f' if normalize else 'd'\n",
    "    thresh = cm.max() / 2.\n",
    "    for i in range(cm.shape[0]):\n",
    "        for j in range(cm.shape[1]):\n",
    "            ax.text(j, i, format(cm[i, j], fmt),\n",
    "                    ha=\"center\", va=\"center\",\n",
    "                    color=\"white\" if cm[i, j] > thresh else \"black\")\n",
    "    fig.tight_layout()\n",
    "    return ax\n",
    "\n",
    "np.set_printoptions(precision=2)"
   ]
  },
  {
   "cell_type": "code",
   "execution_count": 72,
   "metadata": {
    "colab": {
     "base_uri": "https://localhost:8080/",
     "height": 530
    },
    "id": "ZUMBRKdyBe-z",
    "outputId": "8be5e2fa-c798-41f1-a67a-a56e4a0a5d6e"
   },
   "outputs": [
    {
     "name": "stdout",
     "output_type": "stream",
     "text": [
      "Normalized confusion matrix\n"
     ]
    },
    {
     "data": {
      "text/plain": [
       "<matplotlib.axes._subplots.AxesSubplot at 0x7f0001092908>"
      ]
     },
     "execution_count": 72,
     "metadata": {
      "tags": []
     },
     "output_type": "execute_result"
    },
    {
     "data": {
      "image/png": "[encoded data removed]",
      "text/plain": [
       "<Figure size 504x504 with 2 Axes>"
      ]
     },
     "metadata": {
      "needs_background": "light",
      "tags": []
     },
     "output_type": "display_data"
    }
   ],
   "source": [
    "y_pred=AlexNet.predict_classes(x_test)\n",
    "y_true=np.argmax(y_test,axis=1)\n",
    "\n",
    "#Plotting the confusion matrix\n",
    "from sklearn.metrics import confusion_matrix\n",
    "confusion_mtx=confusion_matrix(y_true,y_pred)\n",
    "\n",
    "class_names=[\"Angry\", \"Disgust\", \"Fear\", \"Happy\", \"Sad\", \"Surprise\", \"Neutral\"]\n",
    "\n",
    "# Plotting non-normalized confusion matrix\n",
    "plot_confusion_matrix(y_true, y_pred,normalize=True, classes = class_names,title = 'Confusion matrix')\n"
   ]
  },
  {
   "cell_type": "code",
   "execution_count": null,
   "metadata": {
    "id": "dKA9GPsrCFeT"
   },
   "outputs": [],
   "source": []
  }
 ],
 "metadata": {
  "accelerator": "TPU",
  "colab": {
   "collapsed_sections": [],
   "name": "Untitled0.ipynb",
   "provenance": []
  },
  "kernelspec": {
   "display_name": "Python 3",
   "language": "python",
   "name": "python3"
  },
  "language_info": {
   "codemirror_mode": {
    "name": "ipython",
    "version": 3
   },
   "file_extension": ".py",
   "mimetype": "text/x-python",
   "name": "python",
   "nbconvert_exporter": "python",
   "pygments_lexer": "ipython3",
   "version": "3.8.5"
  }
 },
 "nbformat": 4,
 "nbformat_minor": 1
}
